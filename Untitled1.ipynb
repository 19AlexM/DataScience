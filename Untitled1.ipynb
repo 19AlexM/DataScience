{
  "nbformat": 4,
  "nbformat_minor": 0,
  "metadata": {
    "colab": {
      "name": "Untitled1.ipynb",
      "provenance": []
    },
    "kernelspec": {
      "name": "python3",
      "display_name": "Python 3"
    },
    "language_info": {
      "name": "python"
    }
  },
  "cells": [
    {
      "cell_type": "markdown",
      "source": [
        "#**Klasse ListKeeper inklusive allen Funktionen zum Aufrufen im Aufgaben Notebook**"
      ],
      "metadata": {
        "id": "_DEBlMLws4bf"
      }
    },
    {
      "cell_type": "code",
      "execution_count": 7,
      "metadata": {
        "id": "4PpkCb9am6Vi"
      },
      "outputs": [],
      "source": [
        "class ListKeeper:\n",
        "\n",
        "  l1 = [1,2,3,4,5]\n",
        "  l2 = [6,7,8,9,10]\n",
        "  l3 = [11,12,13,14,15]\n",
        "\n",
        "  d0 = {\n",
        "    \"l1\": l1,\n",
        "    \"l2\": l2,\n",
        "    \"l3\": l3\n",
        "    }\n",
        "\n",
        "  def show():\n",
        "    # returns all list names\n",
        "    return d0\n",
        "    pass\n",
        "\n",
        "  def add(name, list):\n",
        "    # adds a new list\n",
        "\n",
        "    pass\n",
        "\n",
        "  def delete(name):\n",
        "    # deletes list\n",
        "\n",
        "    pass\n",
        "\n",
        "  def sort(name):\n",
        "    # returns the sorted list name\n",
        "\n",
        "    pass\n",
        "\n",
        "  def append(name, list):\n",
        "    # appends list to name\n",
        "\n",
        "    pass"
      ]
    }
  ]
}